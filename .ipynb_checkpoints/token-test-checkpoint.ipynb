{
 "cells": [
  {
   "cell_type": "code",
   "execution_count": 1,
   "metadata": {},
   "outputs": [],
   "source": [
    "#Import necessary packages\n",
    "from iconsdk.icon_service import IconService\n",
    "from iconsdk.providers.http_provider import HTTPProvider\n",
    "from iconsdk.builder.transaction_builder import CallTransactionBuilder, TransactionBuilder,DeployTransactionBuilder,MessageTransactionBuilder\n",
    "from iconsdk.builder.call_builder import CallBuilder\n",
    "from iconsdk.signed_transaction import SignedTransaction\n",
    "from iconsdk.wallet.wallet import KeyWallet\n",
    "from iconsdk.utils.convert_type import convert_hex_str_to_int\n",
    "import requests\n",
    "import json\n",
    "import pickle\n",
    "import csv\n",
    "import os\n",
    "from repeater import retry\n",
    "from iconsdk.libs.in_memory_zip import gen_deploy_data_content"
   ]
  },
  {
   "cell_type": "code",
   "execution_count": 75,
   "metadata": {},
   "outputs": [],
   "source": [
    "GOVERNANCE_ADDRESS = \"cx0000000000000000000000000000000000000000\"\n",
    "SCORE_ADDRESS = \"cx24b468fd58c9d627ca4d131e666a158260bb6fb8\"\n",
    "NEWTON_ADDRESS = \"hx9393939393939393939393939393939393939399\"\n",
    "DEPLOY_PARAMS = {}"
   ]
  },
  {
   "cell_type": "code",
   "execution_count": 3,
   "metadata": {
    "tags": []
   },
   "outputs": [],
   "source": [
    "#Start ICON service and wallet\n",
    "icon_service = IconService(HTTPProvider(\"https://bicon.net.solidwallet.io\", 3))\n",
    "#icon_service = IconService(HTTPProvider(\"http://localhost:9000\", 3))\n",
    "\n",
    "# Returns block information by block height\n",
    "block = icon_service.get_block(1000)\n"
   ]
  },
  {
   "cell_type": "code",
   "execution_count": 4,
   "metadata": {
    "tags": []
   },
   "outputs": [
    {
     "name": "stdout",
     "output_type": "stream",
     "text": [
      "hx8b94a3792f336b71937709dae5487166c180c87a\n",
      "12965880071190000000000\n",
      "0\n"
     ]
    }
   ],
   "source": [
    "operator = KeyWallet.load('config/yeouido/keystores/operator', 'bgsa199@#')\n",
    "prajwol = KeyWallet.load('config/yeouido/keystores/testPrajwol', 'bgsa199@#')\n",
    "\n",
    "print(operator.get_address())\n",
    "print(icon_service.get_balance(operator.get_address()))\n",
    "print(icon_service.get_balance(prajwol.get_address()))"
   ]
  },
  {
   "cell_type": "code",
   "execution_count": 71,
   "metadata": {
    "tags": []
   },
   "outputs": [],
   "source": [
    "DEPLOY_PARAMS =  {\n",
    "            \"_tokenName\": \"NEWCOIN\",\n",
    "            \"_symbolName\": \"NEW\",\n",
    "\t\t\t\"_initialSupply\": 1000,\n",
    "            \"_decimals\": 18,\n",
    "            \"_cap\": 2500\n",
    "\t\t}\n",
    "        \n",
    "deploy_transaction = DeployTransactionBuilder()\\\n",
    "    .from_(operator.get_address())\\\n",
    "    .to(GOVERNANCE_ADDRESS)\\\n",
    "    .nid(3)\\\n",
    "    .nonce(100)\\\n",
    "    .content_type(\"application/zip\")\\\n",
    "    .content(gen_deploy_data_content('ODIContracts'))\\\n",
    "    .params(DEPLOY_PARAMS)\\\n",
    "    .build()\n",
    "\n",
    "estimate_step = icon_service.estimate_step(deploy_transaction)\n",
    "step_limit = estimate_step + 100000\n",
    "signed_transaction = SignedTransaction(deploy_transaction, operator, step_limit)\n",
    "tx_hash = icon_service.send_transaction(signed_transaction)\n"
   ]
  },
  {
   "cell_type": "code",
   "execution_count": 73,
   "metadata": {},
   "outputs": [
    {
     "data": {
      "text/plain": [
       "{'txHash': '0x3ec09f97e42ca9378cbea32697cb1f276f8f4252a042e2d30e38bfb28bab3150',\n",
       " 'blockHeight': 3675698,\n",
       " 'blockHash': '0x46f59ed6a8de3f06153a6d043f06dd37cd656b8303d5a24ab8690710d6138ff9',\n",
       " 'txIndex': 1,\n",
       " 'to': 'cx0000000000000000000000000000000000000000',\n",
       " 'scoreAddress': 'cx24b468fd58c9d627ca4d131e666a158260bb6fb8',\n",
       " 'stepUsed': 1207959080,\n",
       " 'stepPrice': 10000000000,\n",
       " 'cumulativeStepUsed': 1207959080,\n",
       " 'eventLogs': [],\n",
       " 'logsBloom': b'\\x00\\x00\\x00\\x00\\x00\\x00\\x00\\x00\\x00\\x00\\x00\\x00\\x00\\x00\\x00\\x00\\x00\\x00\\x00\\x00\\x00\\x00\\x00\\x00\\x00\\x00\\x00\\x00\\x00\\x00\\x00\\x00\\x00\\x00\\x00\\x00\\x00\\x00\\x00\\x00\\x00\\x00\\x00\\x00\\x00\\x00\\x00\\x00\\x00\\x00\\x00\\x00\\x00\\x00\\x00\\x00\\x00\\x00\\x00\\x00\\x00\\x00\\x00\\x00\\x00\\x00\\x00\\x00\\x00\\x00\\x00\\x00\\x00\\x00\\x00\\x00\\x00\\x00\\x00\\x00\\x00\\x00\\x00\\x00\\x00\\x00\\x00\\x00\\x00\\x00\\x00\\x00\\x00\\x00\\x00\\x00\\x00\\x00\\x00\\x00\\x00\\x00\\x00\\x00\\x00\\x00\\x00\\x00\\x00\\x00\\x00\\x00\\x00\\x00\\x00\\x00\\x00\\x00\\x00\\x00\\x00\\x00\\x00\\x00\\x00\\x00\\x00\\x00\\x00\\x00\\x00\\x00\\x00\\x00\\x00\\x00\\x00\\x00\\x00\\x00\\x00\\x00\\x00\\x00\\x00\\x00\\x00\\x00\\x00\\x00\\x00\\x00\\x00\\x00\\x00\\x00\\x00\\x00\\x00\\x00\\x00\\x00\\x00\\x00\\x00\\x00\\x00\\x00\\x00\\x00\\x00\\x00\\x00\\x00\\x00\\x00\\x00\\x00\\x00\\x00\\x00\\x00\\x00\\x00\\x00\\x00\\x00\\x00\\x00\\x00\\x00\\x00\\x00\\x00\\x00\\x00\\x00\\x00\\x00\\x00\\x00\\x00\\x00\\x00\\x00\\x00\\x00\\x00\\x00\\x00\\x00\\x00\\x00\\x00\\x00\\x00\\x00\\x00\\x00\\x00\\x00\\x00\\x00\\x00\\x00\\x00\\x00\\x00\\x00\\x00\\x00\\x00\\x00\\x00\\x00\\x00\\x00\\x00\\x00\\x00\\x00\\x00\\x00\\x00\\x00\\x00\\x00\\x00\\x00\\x00\\x00\\x00\\x00\\x00\\x00\\x00',\n",
       " 'status': 1}"
      ]
     },
     "execution_count": 73,
     "metadata": {},
     "output_type": "execute_result"
    }
   ],
   "source": [
    "tx_result = icon_service.get_transaction_result(tx_hash)\n",
    "tx_result"
   ]
  },
  {
   "cell_type": "code",
   "execution_count": null,
   "metadata": {},
   "outputs": [],
   "source": []
  },
  {
   "cell_type": "code",
   "execution_count": null,
   "metadata": {},
   "outputs": [],
   "source": []
  },
  {
   "cell_type": "code",
   "execution_count": 83,
   "metadata": {},
   "outputs": [],
   "source": [
    "UPDATE_PARAMS =  {\n",
    "            \"_tokenName\": \"NEWCOIN\",\n",
    "            \"_symbolName\": \"NEW\",\n",
    "\t\t\t\"_initialSupply\": 2499,\n",
    "            \"_decimals\": 18,\n",
    "            \"_cap\": 2500\n",
    "\t\t}\n",
    "        \n",
    "deploy_transaction = DeployTransactionBuilder()\\\n",
    "    .from_(operator.get_address())\\\n",
    "    .to(SCORE_ADDRESS)\\\n",
    "    .nid(3)\\\n",
    "    .nonce(100)\\\n",
    "    .content_type(\"application/zip\")\\\n",
    "    .content(gen_deploy_data_content('ODIContracts'))\\\n",
    "    .params(UPDATE_PARAMS)\\\n",
    "    .build()\n",
    "\n",
    "estimate_step = icon_service.estimate_step(deploy_transaction)\n",
    "step_limit = estimate_step + 100000\n",
    "signed_transaction = SignedTransaction(deploy_transaction, operator, step_limit)\n",
    "tx_hash = icon_service.send_transaction(signed_transaction)\n"
   ]
  },
  {
   "cell_type": "code",
   "execution_count": 84,
   "metadata": {},
   "outputs": [
    {
     "data": {
      "text/plain": [
       "{'txHash': '0xf548c387d3f5c422749e0648a288adf5cd0d3faabbb34eb712c1c32e89afa5cc',\n",
       " 'blockHeight': 3675843,\n",
       " 'blockHash': '0x79778629d47a7b90e7bbc6058696a7cf249598b99d3c2487a7c5805cea8782da',\n",
       " 'txIndex': 1,\n",
       " 'to': 'cx24b468fd58c9d627ca4d131e666a158260bb6fb8',\n",
       " 'stepUsed': 1806973800,\n",
       " 'stepPrice': 10000000000,\n",
       " 'cumulativeStepUsed': 1806973800,\n",
       " 'eventLogs': [],\n",
       " 'logsBloom': b'\\x00\\x00\\x00\\x00\\x00\\x00\\x00\\x00\\x00\\x00\\x00\\x00\\x00\\x00\\x00\\x00\\x00\\x00\\x00\\x00\\x00\\x00\\x00\\x00\\x00\\x00\\x00\\x00\\x00\\x00\\x00\\x00\\x00\\x00\\x00\\x00\\x00\\x00\\x00\\x00\\x00\\x00\\x00\\x00\\x00\\x00\\x00\\x00\\x00\\x00\\x00\\x00\\x00\\x00\\x00\\x00\\x00\\x00\\x00\\x00\\x00\\x00\\x00\\x00\\x00\\x00\\x00\\x00\\x00\\x00\\x00\\x00\\x00\\x00\\x00\\x00\\x00\\x00\\x00\\x00\\x00\\x00\\x00\\x00\\x00\\x00\\x00\\x00\\x00\\x00\\x00\\x00\\x00\\x00\\x00\\x00\\x00\\x00\\x00\\x00\\x00\\x00\\x00\\x00\\x00\\x00\\x00\\x00\\x00\\x00\\x00\\x00\\x00\\x00\\x00\\x00\\x00\\x00\\x00\\x00\\x00\\x00\\x00\\x00\\x00\\x00\\x00\\x00\\x00\\x00\\x00\\x00\\x00\\x00\\x00\\x00\\x00\\x00\\x00\\x00\\x00\\x00\\x00\\x00\\x00\\x00\\x00\\x00\\x00\\x00\\x00\\x00\\x00\\x00\\x00\\x00\\x00\\x00\\x00\\x00\\x00\\x00\\x00\\x00\\x00\\x00\\x00\\x00\\x00\\x00\\x00\\x00\\x00\\x00\\x00\\x00\\x00\\x00\\x00\\x00\\x00\\x00\\x00\\x00\\x00\\x00\\x00\\x00\\x00\\x00\\x00\\x00\\x00\\x00\\x00\\x00\\x00\\x00\\x00\\x00\\x00\\x00\\x00\\x00\\x00\\x00\\x00\\x00\\x00\\x00\\x00\\x00\\x00\\x00\\x00\\x00\\x00\\x00\\x00\\x00\\x00\\x00\\x00\\x00\\x00\\x00\\x00\\x00\\x00\\x00\\x00\\x00\\x00\\x00\\x00\\x00\\x00\\x00\\x00\\x00\\x00\\x00\\x00\\x00\\x00\\x00\\x00\\x00\\x00\\x00\\x00\\x00\\x00\\x00\\x00\\x00',\n",
       " 'status': 0,\n",
       " 'failure': {'code': 1, 'message': 'Over cap limit'}}"
      ]
     },
     "execution_count": 84,
     "metadata": {},
     "output_type": "execute_result"
    }
   ],
   "source": [
    "tx_result = icon_service.get_transaction_result(tx_hash)\n",
    "tx_result"
   ]
  },
  {
   "cell_type": "code",
   "execution_count": 79,
   "metadata": {
    "tags": []
   },
   "outputs": [
    {
     "name": "stdout",
     "output_type": "stream",
     "text": [
      "NEWCOIN\n",
      "NEW\n",
      "0x12\n",
      "0xa2a15d09519be00000\n"
     ]
    }
   ],
   "source": [
    "external_methods = [\"name\", \"symbol\", \"decimals\", \"totalSupply\"]\n",
    "for method in external_methods:\n",
    "    call = CallBuilder().from_(operator.get_address())\\\n",
    "                    .to(SCORE_ADDRESS)\\\n",
    "                    .method(method)\\\n",
    "                    .build()\n",
    "    print(icon_service.call(call))"
   ]
  },
  {
   "cell_type": "code",
   "execution_count": null,
   "metadata": {
    "tags": []
   },
   "outputs": [],
   "source": [
    "transfer_transaction = CallTransactionBuilder()\\\n",
    "    .from_(operator.get_address())\\\n",
    "    .to(SCORE_ADDRESS)\\\n",
    "    .nid(3)\\\n",
    "    .nonce(100)\\\n",
    "    .method('transfer')\\\n",
    "    .params({'_to':NEWTON_ADDRESS, '_value':9999999999})\\\n",
    "    .build()\n",
    "\n",
    "estimate_step = icon_service.estimate_step(transfer_transaction)\n",
    "step_limit = estimate_step + 100000\n",
    "signed_transaction = SignedTransaction(transfer_transaction, operator, step_limit)\n",
    "tx_hash = icon_service.send_transaction(signed_transaction)\n",
    "\n"
   ]
  },
  {
   "cell_type": "code",
   "execution_count": null,
   "metadata": {
    "tags": []
   },
   "outputs": [],
   "source": [
    "tx_result = icon_service.get_transaction_result(tx_hash)\n",
    "tx_result"
   ]
  },
  {
   "cell_type": "code",
   "execution_count": null,
   "metadata": {},
   "outputs": [],
   "source": [
    "call = CallBuilder().from_(operator.get_address())\\\n",
    "                    .to(SCORE_ADDRESS)\\\n",
    "                    .method('balanceOf')\\\n",
    "                    .params({'account': NEWTON_ADDRESS})\\\n",
    "                    .build()\n",
    "print(icon_service.call(call))"
   ]
  },
  {
   "cell_type": "code",
   "execution_count": null,
   "metadata": {
    "tags": []
   },
   "outputs": [],
   "source": [
    "call = CallBuilder().from_(operator.get_address())\\\n",
    "                    .to(SCORE_ADDRESS)\\\n",
    "                    .method('balanceOf')\\\n",
    "                    .params({'account': operator.get_address()})\\\n",
    "                    .build()\n",
    "print(icon_service.call(call))"
   ]
  },
  {
   "cell_type": "code",
   "execution_count": null,
   "metadata": {},
   "outputs": [],
   "source": [
    "call = CallBuilder().from_(operator.get_address())\\\n",
    "                    .to(SCORE_ADDRESS)\\\n",
    "                    .method('balanceOf')\\\n",
    "                    .params({'account': prajwol.get_address()})\\\n",
    "                    .build()\n",
    "print(icon_service.call(call))"
   ]
  },
  {
   "cell_type": "code",
   "execution_count": null,
   "metadata": {},
   "outputs": [],
   "source": [
    "params={\n",
    "    \"_account\": NEWTON_ADDRESS,\n",
    "    \"_amount\": 6,\n",
    "}\n",
    "\n",
    "call_transaction = CallTransactionBuilder()\\\n",
    "    .from_(operator.get_address())\\\n",
    "    .to(SCORE_ADDRESS)\\\n",
    "    .nid(3)\\\n",
    "    .nonce(100)\\\n",
    "    .method(\"mintTo\")\\\n",
    "    .params(params)\\\n",
    "    .build()\n",
    "\n",
    "estimate_step = icon_service.estimate_step(call_transaction)\n",
    "step_limit = estimate_step + 100000\n",
    "# Returns the signed transaction object having a signature\n",
    "signed_transaction = SignedTransaction(call_transaction, operator,step_limit)\n",
    "\n",
    "# Sends the transaction\n",
    "tx_hash = icon_service.send_transaction(signed_transaction)\n",
    "tx_hash\n"
   ]
  },
  {
   "cell_type": "code",
   "execution_count": null,
   "metadata": {},
   "outputs": [],
   "source": [
    "tx_result = icon_service.get_transaction_result(tx_hash)\n",
    "tx_result\n"
   ]
  },
  {
   "cell_type": "code",
   "execution_count": null,
   "metadata": {},
   "outputs": [],
   "source": [
    "params={\n",
    "    \"account\": NEWTON_ADDRESS,\n",
    "    \"value\": 5,\n",
    "}\n",
    "\n",
    "call_transaction = CallTransactionBuilder()\\\n",
    "    .from_(operator.get_address())\\\n",
    "    .to(SCORE_ADDRESS)\\\n",
    "    .nid(3)\\\n",
    "    .nonce(100)\\\n",
    "    .method(\"_burn\")\\\n",
    "    .params(params)\\\n",
    "    .build()\n",
    "\n",
    "estimate_step = icon_service.estimate_step(call_transaction)\n",
    "step_limit = estimate_step + 100000\n",
    "# Returns the signed transaction object having a signature\n",
    "signed_transaction = SignedTransaction(call_transaction, operator,step_limit)\n",
    "\n",
    "# Sends the transaction\n",
    "tx_hash = icon_service.send_transaction(signed_transaction)\n",
    "tx_hash\n"
   ]
  },
  {
   "cell_type": "code",
   "execution_count": null,
   "metadata": {},
   "outputs": [],
   "source": [
    "tx_result = icon_service.get_transaction_result(tx_hash)\n",
    "tx_result"
   ]
  },
  {
   "cell_type": "code",
   "execution_count": null,
   "metadata": {},
   "outputs": [],
   "source": [
    "params={\n",
    "    \"owner\": NEWTON_ADDRESS,\n",
    "    \"spender\": prajwol.get_address(),\n",
    "}\n",
    "\n",
    "call_transaction = CallTransactionBuilder()\\\n",
    "    .from_(operator.get_address())\\\n",
    "    .to(SCORE_ADDRESS)\\\n",
    "    .nid(3)\\\n",
    "    .nonce(100)\\\n",
    "    .method(\"_allowance\")\\\n",
    "    .params(params)\\\n",
    "    .build()\n",
    "\n",
    "estimate_step = icon_service.estimate_step(call_transaction)\n",
    "step_limit = estimate_step + 100000\n",
    "# Returns the signed transaction object having a signature\n",
    "signed_transaction = SignedTransaction(call_transaction, operator,step_limit)\n",
    "\n",
    "# Sends the transaction\n",
    "tx_hash = icon_service.send_transaction(signed_transaction)\n",
    "tx_hash\n"
   ]
  },
  {
   "cell_type": "code",
   "execution_count": null,
   "metadata": {},
   "outputs": [],
   "source": [
    "tx_result = icon_service.get_transaction_result(tx_hash)\n",
    "tx_result"
   ]
  },
  {
   "cell_type": "code",
   "execution_count": null,
   "metadata": {},
   "outputs": [],
   "source": [
    "params={\n",
    "    \"spender\": NEWTON_ADDRESS,\n",
    "    \"amount\": 3000,\n",
    "}\n",
    "\n",
    "call_transaction = CallTransactionBuilder()\\\n",
    "    .from_(operator.get_address())\\\n",
    "    .to(SCORE_ADDRESS)\\\n",
    "    .nid(3)\\\n",
    "    .nonce(100)\\\n",
    "    .method(\"approve\")\\\n",
    "    .params(params)\\\n",
    "    .build()\n",
    "\n",
    "estimate_step = icon_service.estimate_step(call_transaction)\n",
    "step_limit = estimate_step + 100000\n",
    "# Returns the signed transaction object having a signature\n",
    "signed_transaction = SignedTransaction(call_transaction, operator,step_limit)\n",
    "\n",
    "# Sends the transaction\n",
    "tx_hash = icon_service.send_transaction(signed_transaction)\n",
    "tx_hash\n"
   ]
  },
  {
   "cell_type": "code",
   "execution_count": null,
   "metadata": {},
   "outputs": [],
   "source": [
    "tx_result = icon_service.get_transaction_result(tx_hash)\n",
    "tx_result"
   ]
  },
  {
   "cell_type": "code",
   "execution_count": null,
   "metadata": {},
   "outputs": [],
   "source": []
  }
 ],
 "metadata": {
  "kernelspec": {
   "display_name": "Python 3",
   "language": "python",
   "name": "python3"
  },
  "language_info": {
   "codemirror_mode": {
    "name": "ipython",
    "version": 3
   },
   "file_extension": ".py",
   "mimetype": "text/x-python",
   "name": "python",
   "nbconvert_exporter": "python",
   "pygments_lexer": "ipython3",
   "version": "3.8.2"
  }
 },
 "nbformat": 4,
 "nbformat_minor": 2
}

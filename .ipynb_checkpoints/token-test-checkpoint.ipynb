{
 "cells": [
  {
   "cell_type": "code",
   "execution_count": 1,
   "metadata": {},
   "outputs": [],
   "source": [
    "#Import necessary packages\n",
    "from iconsdk.icon_service import IconService\n",
    "from iconsdk.providers.http_provider import HTTPProvider\n",
    "from iconsdk.builder.transaction_builder import CallTransactionBuilder, TransactionBuilder,DeployTransactionBuilder,MessageTransactionBuilder\n",
    "from iconsdk.builder.call_builder import CallBuilder\n",
    "from iconsdk.signed_transaction import SignedTransaction\n",
    "from iconsdk.wallet.wallet import KeyWallet\n",
    "from iconsdk.utils.convert_type import convert_hex_str_to_int\n",
    "import requests\n",
    "import json\n",
    "import pickle\n",
    "import csv\n",
    "import os\n",
    "from repeater import retry\n",
    "from iconsdk.libs.in_memory_zip import gen_deploy_data_content"
   ]
  },
  {
   "cell_type": "code",
   "execution_count": 31,
   "metadata": {},
   "outputs": [],
   "source": [
    "GOVERNANCE_ADDRESS = \"cx0000000000000000000000000000000000000000\"\n",
    "SCORE_ADDRESS = \"cxe02f3399b676823f7125d49e659ff748282ff8cc\"\n",
    "NEWTON_ADDRESS = \"hx43e1f6be06a62a293d06867adc27e7acc9affe69\"\n",
    "DEPLOY_PARAMS = {}"
   ]
  },
  {
   "cell_type": "code",
   "execution_count": 3,
   "metadata": {
    "tags": []
   },
   "outputs": [
    {
     "data": {
      "text/plain": [
       "{'version': '0.3',\n",
       " 'height': 1000,\n",
       " 'signature': 'Oj2VRhXDnd/3IdrE0ClPKEgGLkYLZt/p/o7D9rlspLoSAEA1vYSZyaOoF5n1QV8hpZaObMuZBGaRm13mjYmcHgA=',\n",
       " 'prev_block_hash': 'cdd0017615d2af92227ec54d3147b199ba1417e1e6ec99cf33e7005a2b709692',\n",
       " 'merkle_tree_root_hash': '0000000000000000000000000000000000000000000000000000000000000000',\n",
       " 'time_stamp': 1586159775591512,\n",
       " 'confirmed_transaction_list': [],\n",
       " 'block_hash': '95ea963d180936776a650b6b35640c20c1ca951e26a0b55cb11b1b555ecb559b',\n",
       " 'peer_id': 'hxaad52424d4aec9dac7d9f6796da527f471269d2c',\n",
       " 'next_leader': 'hxec79e9c1c882632688f8c8f9a07832bcabe8be8f'}"
      ]
     },
     "execution_count": 3,
     "metadata": {},
     "output_type": "execute_result"
    }
   ],
   "source": [
    "#Start ICON service and wallet\n",
    "icon_service = IconService(HTTPProvider(\"https://bicon.net.solidwallet.io\", 3))\n",
    "#icon_service = IconService(HTTPProvider(\"http://localhost:9000\", 3))\n",
    "\n",
    "# Returns block information by block height\n",
    "block = icon_service.get_block(1000)\n"
   ]
  },
  {
   "cell_type": "code",
   "execution_count": 4,
   "metadata": {
    "tags": []
   },
   "outputs": [
    {
     "name": "stdout",
     "output_type": "stream",
     "text": [
      "hx8b94a3792f336b71937709dae5487166c180c87a\n",
      "13832157559790000000000\n",
      "0\n"
     ]
    }
   ],
   "source": [
    "operator = KeyWallet.load('config/yeouido/keystores/operator', 'bgsa199@#')\n",
    "prajwol = KeyWallet.load('config/yeouido/keystores/testPrajwol', 'bgsa199@#')\n",
    "\n",
    "print(operator.get_address())\n",
    "print(icon_service.get_balance(operator.get_address()))\n",
    "print(icon_service.get_balance(prajwol.get_address()))"
   ]
  },
  {
   "cell_type": "code",
   "execution_count": 28,
   "metadata": {
    "tags": []
   },
   "outputs": [],
   "source": [
    "DEPLOY_PARAMS =  {\n",
    "            \"_tokenName\": \"TestToken\",\n",
    "            \"_symbolName\": \"TK\",\n",
    "\t\t\t\"_initialSupply\": 1000,\n",
    "            \"_decimals\": 18\n",
    "\t\t}\n",
    "        \n",
    "deploy_transaction = DeployTransactionBuilder()\\\n",
    "    .from_(operator.get_address())\\\n",
    "    .to(GOVERNANCE_ADDRESS)\\\n",
    "    .nid(3)\\\n",
    "    .nonce(100)\\\n",
    "    .content_type(\"application/zip\")\\\n",
    "    .content(gen_deploy_data_content('ODIContracts'))\\\n",
    "    .params(DEPLOY_PARAMS)\\\n",
    "    .build()\n",
    "\n",
    "estimate_step = icon_service.estimate_step(deploy_transaction)\n",
    "step_limit = estimate_step + 100000\n",
    "signed_transaction = SignedTransaction(deploy_transaction, operator, step_limit)\n",
    "tx_hash = icon_service.send_transaction(signed_transaction)\n"
   ]
  },
  {
   "cell_type": "code",
   "execution_count": 30,
   "metadata": {},
   "outputs": [
    {
     "data": {
      "text/plain": [
       "{'txHash': '0x54fb5520678dd1270069f8b8f13bea66cc32a557c1e1cd33e8f0072be3e7de50',\n",
       " 'blockHeight': 3634531,\n",
       " 'blockHash': '0x4ba12190ebfb50ecd29061cdced7d5a705d4d07d92495ce2249aea93c8ed359a',\n",
       " 'txIndex': 1,\n",
       " 'to': 'cx0000000000000000000000000000000000000000',\n",
       " 'scoreAddress': 'cxe02f3399b676823f7125d49e659ff748282ff8cc',\n",
       " 'stepUsed': 1169375800,\n",
       " 'stepPrice': 10000000000,\n",
       " 'cumulativeStepUsed': 1169375800,\n",
       " 'eventLogs': [],\n",
       " 'logsBloom': b'\\x00\\x00\\x00\\x00\\x00\\x00\\x00\\x00\\x00\\x00\\x00\\x00\\x00\\x00\\x00\\x00\\x00\\x00\\x00\\x00\\x00\\x00\\x00\\x00\\x00\\x00\\x00\\x00\\x00\\x00\\x00\\x00\\x00\\x00\\x00\\x00\\x00\\x00\\x00\\x00\\x00\\x00\\x00\\x00\\x00\\x00\\x00\\x00\\x00\\x00\\x00\\x00\\x00\\x00\\x00\\x00\\x00\\x00\\x00\\x00\\x00\\x00\\x00\\x00\\x00\\x00\\x00\\x00\\x00\\x00\\x00\\x00\\x00\\x00\\x00\\x00\\x00\\x00\\x00\\x00\\x00\\x00\\x00\\x00\\x00\\x00\\x00\\x00\\x00\\x00\\x00\\x00\\x00\\x00\\x00\\x00\\x00\\x00\\x00\\x00\\x00\\x00\\x00\\x00\\x00\\x00\\x00\\x00\\x00\\x00\\x00\\x00\\x00\\x00\\x00\\x00\\x00\\x00\\x00\\x00\\x00\\x00\\x00\\x00\\x00\\x00\\x00\\x00\\x00\\x00\\x00\\x00\\x00\\x00\\x00\\x00\\x00\\x00\\x00\\x00\\x00\\x00\\x00\\x00\\x00\\x00\\x00\\x00\\x00\\x00\\x00\\x00\\x00\\x00\\x00\\x00\\x00\\x00\\x00\\x00\\x00\\x00\\x00\\x00\\x00\\x00\\x00\\x00\\x00\\x00\\x00\\x00\\x00\\x00\\x00\\x00\\x00\\x00\\x00\\x00\\x00\\x00\\x00\\x00\\x00\\x00\\x00\\x00\\x00\\x00\\x00\\x00\\x00\\x00\\x00\\x00\\x00\\x00\\x00\\x00\\x00\\x00\\x00\\x00\\x00\\x00\\x00\\x00\\x00\\x00\\x00\\x00\\x00\\x00\\x00\\x00\\x00\\x00\\x00\\x00\\x00\\x00\\x00\\x00\\x00\\x00\\x00\\x00\\x00\\x00\\x00\\x00\\x00\\x00\\x00\\x00\\x00\\x00\\x00\\x00\\x00\\x00\\x00\\x00\\x00\\x00\\x00\\x00\\x00\\x00\\x00\\x00\\x00\\x00\\x00\\x00',\n",
       " 'status': 1}"
      ]
     },
     "execution_count": 30,
     "metadata": {},
     "output_type": "execute_result"
    }
   ],
   "source": [
    "tx_result = icon_service.get_transaction_result(tx_hash)\n",
    "tx_result"
   ]
  },
  {
   "cell_type": "code",
   "execution_count": 32,
   "metadata": {},
   "outputs": [],
   "source": [
    "UPDATE_PARAMS =  {\n",
    "            \"_tokenName\": \"TestToken1\",\n",
    "            \"_symbolName\": \"TK1\",\n",
    "\t\t\t\"_initialSupply\": 1000,\n",
    "            \"_decimals\": 18\n",
    "\t\t}\n",
    "        \n",
    "deploy_transaction = DeployTransactionBuilder()\\\n",
    "    .from_(operator.get_address())\\\n",
    "    .to(SCORE_ADDRESS)\\\n",
    "    .nid(3)\\\n",
    "    .nonce(100)\\\n",
    "    .content_type(\"application/zip\")\\\n",
    "    .content(gen_deploy_data_content('ODIContracts'))\\\n",
    "    .params(UPDATE_PARAMS)\\\n",
    "    .build()\n",
    "\n",
    "estimate_step = icon_service.estimate_step(deploy_transaction)\n",
    "step_limit = estimate_step + 100000\n",
    "signed_transaction = SignedTransaction(deploy_transaction, operator, step_limit)\n",
    "tx_hash = icon_service.send_transaction(signed_transaction)\n"
   ]
  },
  {
   "cell_type": "code",
   "execution_count": 33,
   "metadata": {},
   "outputs": [
    {
     "data": {
      "text/plain": [
       "{'txHash': '0xc7e0d7b6f941eb1cb40fba130e8c341870fb4817b642b24697255da5164bcb2a',\n",
       " 'blockHeight': 3634542,\n",
       " 'blockHash': '0xa0ace70e16b68d5c91e81edfd815e809aa1665d645f9ae4eafcb6462fa5f2c3c',\n",
       " 'txIndex': 1,\n",
       " 'to': 'cxe02f3399b676823f7125d49e659ff748282ff8cc',\n",
       " 'scoreAddress': 'cxe02f3399b676823f7125d49e659ff748282ff8cc',\n",
       " 'stepUsed': 1769369160,\n",
       " 'stepPrice': 10000000000,\n",
       " 'cumulativeStepUsed': 1769369160,\n",
       " 'eventLogs': [],\n",
       " 'logsBloom': b'\\x00\\x00\\x00\\x00\\x00\\x00\\x00\\x00\\x00\\x00\\x00\\x00\\x00\\x00\\x00\\x00\\x00\\x00\\x00\\x00\\x00\\x00\\x00\\x00\\x00\\x00\\x00\\x00\\x00\\x00\\x00\\x00\\x00\\x00\\x00\\x00\\x00\\x00\\x00\\x00\\x00\\x00\\x00\\x00\\x00\\x00\\x00\\x00\\x00\\x00\\x00\\x00\\x00\\x00\\x00\\x00\\x00\\x00\\x00\\x00\\x00\\x00\\x00\\x00\\x00\\x00\\x00\\x00\\x00\\x00\\x00\\x00\\x00\\x00\\x00\\x00\\x00\\x00\\x00\\x00\\x00\\x00\\x00\\x00\\x00\\x00\\x00\\x00\\x00\\x00\\x00\\x00\\x00\\x00\\x00\\x00\\x00\\x00\\x00\\x00\\x00\\x00\\x00\\x00\\x00\\x00\\x00\\x00\\x00\\x00\\x00\\x00\\x00\\x00\\x00\\x00\\x00\\x00\\x00\\x00\\x00\\x00\\x00\\x00\\x00\\x00\\x00\\x00\\x00\\x00\\x00\\x00\\x00\\x00\\x00\\x00\\x00\\x00\\x00\\x00\\x00\\x00\\x00\\x00\\x00\\x00\\x00\\x00\\x00\\x00\\x00\\x00\\x00\\x00\\x00\\x00\\x00\\x00\\x00\\x00\\x00\\x00\\x00\\x00\\x00\\x00\\x00\\x00\\x00\\x00\\x00\\x00\\x00\\x00\\x00\\x00\\x00\\x00\\x00\\x00\\x00\\x00\\x00\\x00\\x00\\x00\\x00\\x00\\x00\\x00\\x00\\x00\\x00\\x00\\x00\\x00\\x00\\x00\\x00\\x00\\x00\\x00\\x00\\x00\\x00\\x00\\x00\\x00\\x00\\x00\\x00\\x00\\x00\\x00\\x00\\x00\\x00\\x00\\x00\\x00\\x00\\x00\\x00\\x00\\x00\\x00\\x00\\x00\\x00\\x00\\x00\\x00\\x00\\x00\\x00\\x00\\x00\\x00\\x00\\x00\\x00\\x00\\x00\\x00\\x00\\x00\\x00\\x00\\x00\\x00\\x00\\x00\\x00\\x00\\x00\\x00',\n",
       " 'status': 1}"
      ]
     },
     "execution_count": 33,
     "metadata": {},
     "output_type": "execute_result"
    }
   ],
   "source": [
    "tx_result = icon_service.get_transaction_result(tx_hash)\n",
    "tx_result"
   ]
  },
  {
   "cell_type": "code",
   "execution_count": null,
   "metadata": {
    "tags": []
   },
   "outputs": [],
   "source": [
    "external_methods = [\"name\", \"symbol\", \"decimals\", \"totalSupply\"]\n",
    "for method in external_methods:\n",
    "    call = CallBuilder().from_(operator.get_address())\\\n",
    "                    .to(SCORE_ADDRESS)\\\n",
    "                    .method(method)\\\n",
    "                    .build()\n",
    "    print(icon_service.call(call))"
   ]
  },
  {
   "cell_type": "code",
   "execution_count": null,
   "metadata": {
    "tags": []
   },
   "outputs": [],
   "source": [
    "transfer_transaction = CallTransactionBuilder()\\\n",
    "    .from_(operator.get_address())\\\n",
    "    .to(SCORE_ADDRESS)\\\n",
    "    .nid(3)\\\n",
    "    .nonce(100)\\\n",
    "    .method('transfer')\\\n",
    "    .params({'_to':NEWTON_ADDRESS, '_value':63521387923})\\\n",
    "    .build()\n",
    "\n",
    "estimate_step = icon_service.estimate_step(transfer_transaction)\n",
    "step_limit = estimate_step + 100000\n",
    "signed_transaction = SignedTransaction(transfer_transaction, operator, step_limit)\n",
    "tx_hash = icon_service.send_transaction(signed_transaction)\n",
    "\n",
    "@retry(JSONRPCException, tries=10, delay=1, back_off=2)\n",
    "def get_tx_result(_tx_hash):\n",
    "    tx_result = icon_service.get_transaction_result(_tx_hash)\n",
    "    return tx_result\n",
    "\n",
    "get_tx_result(tx_hash)\n"
   ]
  },
  {
   "cell_type": "code",
   "execution_count": null,
   "metadata": {
    "tags": []
   },
   "outputs": [],
   "source": [
    "tx_result = icon_service.get_transaction_result(tx_hash)\n",
    "tx_result"
   ]
  },
  {
   "cell_type": "code",
   "execution_count": null,
   "metadata": {
    "tags": []
   },
   "outputs": [],
   "source": [
    "call = CallBuilder().from_(operator.get_address())\\\n",
    "                    .to(SCORE_ADDRESS)\\\n",
    "                    .method('balanceOf')\\\n",
    "                    .params({'account': prajwol.get_address()})\\\n",
    "                    .build()\n",
    "print(icon_service.call(call))"
   ]
  },
  {
   "cell_type": "code",
   "execution_count": 34,
   "metadata": {},
   "outputs": [
    {
     "name": "stderr",
     "output_type": "stream",
     "text": [
      "Raised JSONRPCException while returning the custom response. Error message: {'code': -32001, 'message': \"burn() got an unexpected keyword argument '_value'\"}\n"
     ]
    },
    {
     "ename": "JSONRPCException",
     "evalue": "{'code': -32001, 'message': \"burn() got an unexpected keyword argument '_value'\"} (Json rpc error)",
     "output_type": "error",
     "traceback": [
      "\u001b[0;31m-------------------------------------------------------------------\u001b[0m",
      "\u001b[0;31mJSONRPCException\u001b[0m                  Traceback (most recent call last)",
      "\u001b[0;32m<ipython-input-34-3b20db4dedd7>\u001b[0m in \u001b[0;36m<module>\u001b[0;34m\u001b[0m\n\u001b[1;32m     13\u001b[0m     \u001b[0;34m.\u001b[0m\u001b[0mbuild\u001b[0m\u001b[0;34m(\u001b[0m\u001b[0;34m)\u001b[0m\u001b[0;34m\u001b[0m\u001b[0;34m\u001b[0m\u001b[0m\n\u001b[1;32m     14\u001b[0m \u001b[0;34m\u001b[0m\u001b[0m\n\u001b[0;32m---> 15\u001b[0;31m \u001b[0mestimate_step\u001b[0m \u001b[0;34m=\u001b[0m \u001b[0micon_service\u001b[0m\u001b[0;34m.\u001b[0m\u001b[0mestimate_step\u001b[0m\u001b[0;34m(\u001b[0m\u001b[0mcall_transaction\u001b[0m\u001b[0;34m)\u001b[0m\u001b[0;34m\u001b[0m\u001b[0;34m\u001b[0m\u001b[0m\n\u001b[0m\u001b[1;32m     16\u001b[0m \u001b[0mstep_limit\u001b[0m \u001b[0;34m=\u001b[0m \u001b[0mestimate_step\u001b[0m \u001b[0;34m+\u001b[0m \u001b[0;36m100000\u001b[0m\u001b[0;34m\u001b[0m\u001b[0;34m\u001b[0m\u001b[0m\n\u001b[1;32m     17\u001b[0m \u001b[0;31m# Returns the signed transaction object having a signature\u001b[0m\u001b[0;34m\u001b[0m\u001b[0;34m\u001b[0m\u001b[0;34m\u001b[0m\u001b[0m\n",
      "\u001b[0;32m~/work/lib/python3.8/site-packages/iconsdk/icon_service.py\u001b[0m in \u001b[0;36mestimate_step\u001b[0;34m(self, transaction)\u001b[0m\n\u001b[1;32m    280\u001b[0m             \u001b[0mparams\u001b[0m\u001b[0;34m[\u001b[0m\u001b[0;34m\"data\"\u001b[0m\u001b[0;34m]\u001b[0m \u001b[0;34m=\u001b[0m \u001b[0mtransaction\u001b[0m\u001b[0;34m.\u001b[0m\u001b[0mdata\u001b[0m\u001b[0;34m\u001b[0m\u001b[0;34m\u001b[0m\u001b[0m\n\u001b[1;32m    281\u001b[0m \u001b[0;34m\u001b[0m\u001b[0m\n\u001b[0;32m--> 282\u001b[0;31m         \u001b[0mresult\u001b[0m \u001b[0;34m=\u001b[0m \u001b[0mself\u001b[0m\u001b[0;34m.\u001b[0m\u001b[0m__provider\u001b[0m\u001b[0;34m.\u001b[0m\u001b[0mmake_request\u001b[0m\u001b[0;34m(\u001b[0m\u001b[0;34m'debug_estimateStep'\u001b[0m\u001b[0;34m,\u001b[0m \u001b[0mparams\u001b[0m\u001b[0;34m)\u001b[0m\u001b[0;34m\u001b[0m\u001b[0;34m\u001b[0m\u001b[0m\n\u001b[0m\u001b[1;32m    283\u001b[0m         \u001b[0;32mreturn\u001b[0m \u001b[0mint\u001b[0m\u001b[0;34m(\u001b[0m\u001b[0mresult\u001b[0m\u001b[0;34m,\u001b[0m \u001b[0;36m16\u001b[0m\u001b[0;34m)\u001b[0m\u001b[0;34m\u001b[0m\u001b[0;34m\u001b[0m\u001b[0m\n",
      "\u001b[0;32m~/work/lib/python3.8/site-packages/iconsdk/providers/http_provider.py\u001b[0m in \u001b[0;36mmake_request\u001b[0;34m(self, method, params, full_response)\u001b[0m\n\u001b[1;32m    127\u001b[0m         \u001b[0mfull_path_url\u001b[0m \u001b[0;34m=\u001b[0m \u001b[0mself\u001b[0m\u001b[0;34m.\u001b[0m\u001b[0m_full_path_url\u001b[0m \u001b[0;32mif\u001b[0m \u001b[0mself\u001b[0m\u001b[0;34m.\u001b[0m\u001b[0m_full_path_url\u001b[0m \u001b[0;32melse\u001b[0m \u001b[0mself\u001b[0m\u001b[0;34m.\u001b[0m\u001b[0m_get_full_path_url\u001b[0m\u001b[0;34m(\u001b[0m\u001b[0mmethod\u001b[0m\u001b[0;34m)\u001b[0m\u001b[0;34m\u001b[0m\u001b[0;34m\u001b[0m\u001b[0m\n\u001b[1;32m    128\u001b[0m         \u001b[0mresponse\u001b[0m \u001b[0;34m=\u001b[0m \u001b[0mself\u001b[0m\u001b[0;34m.\u001b[0m\u001b[0m_make_post_request\u001b[0m\u001b[0;34m(\u001b[0m\u001b[0mfull_path_url\u001b[0m\u001b[0;34m,\u001b[0m \u001b[0mrpc_dict\u001b[0m\u001b[0;34m,\u001b[0m \u001b[0;34m**\u001b[0m\u001b[0mself\u001b[0m\u001b[0;34m.\u001b[0m\u001b[0m_get_request_kwargs\u001b[0m\u001b[0;34m(\u001b[0m\u001b[0;34m)\u001b[0m\u001b[0;34m)\u001b[0m\u001b[0;34m\u001b[0m\u001b[0;34m\u001b[0m\u001b[0m\n\u001b[0;32m--> 129\u001b[0;31m         \u001b[0mcustom_response\u001b[0m \u001b[0;34m=\u001b[0m \u001b[0mself\u001b[0m\u001b[0;34m.\u001b[0m\u001b[0m_return_custom_response\u001b[0m\u001b[0;34m(\u001b[0m\u001b[0mresponse\u001b[0m\u001b[0;34m,\u001b[0m \u001b[0mfull_response\u001b[0m\u001b[0;34m)\u001b[0m\u001b[0;34m\u001b[0m\u001b[0;34m\u001b[0m\u001b[0m\n\u001b[0m\u001b[1;32m    130\u001b[0m \u001b[0;34m\u001b[0m\u001b[0m\n\u001b[1;32m    131\u001b[0m         \u001b[0mlogger\u001b[0m\u001b[0;34m.\u001b[0m\u001b[0mdebug\u001b[0m\u001b[0;34m(\u001b[0m\u001b[0;34mf\"Request: {rpc_dict}\"\u001b[0m\u001b[0;34m)\u001b[0m\u001b[0;34m\u001b[0m\u001b[0;34m\u001b[0m\u001b[0m\n",
      "\u001b[0;32m~/work/lib/python3.8/site-packages/iconsdk/providers/http_provider.py\u001b[0m in \u001b[0;36m_return_custom_response\u001b[0;34m(response, full_response)\u001b[0m\n\u001b[1;32m    152\u001b[0m                 logger.error(f\"Raised JSONRPCException while returning the custom response. \"\n\u001b[1;32m    153\u001b[0m                              f\"Error message: {content_as_dict['error']}\")\n\u001b[0;32m--> 154\u001b[0;31m                 \u001b[0;32mraise\u001b[0m \u001b[0mJSONRPCException\u001b[0m\u001b[0;34m(\u001b[0m\u001b[0mcontent_as_dict\u001b[0m\u001b[0;34m[\u001b[0m\u001b[0;34m\"error\"\u001b[0m\u001b[0;34m]\u001b[0m\u001b[0;34m)\u001b[0m\u001b[0;34m\u001b[0m\u001b[0;34m\u001b[0m\u001b[0m\n\u001b[0m\u001b[1;32m    155\u001b[0m \u001b[0;34m\u001b[0m\u001b[0m\n\u001b[1;32m    156\u001b[0m     \u001b[0;32mdef\u001b[0m \u001b[0mis_connected\u001b[0m\u001b[0;34m(\u001b[0m\u001b[0mself\u001b[0m\u001b[0;34m)\u001b[0m \u001b[0;34m->\u001b[0m \u001b[0mbool\u001b[0m\u001b[0;34m:\u001b[0m\u001b[0;34m\u001b[0m\u001b[0;34m\u001b[0m\u001b[0m\n",
      "\u001b[0;31mJSONRPCException\u001b[0m: {'code': -32001, 'message': \"burn() got an unexpected keyword argument '_value'\"} (Json rpc error)"
     ]
    }
   ],
   "source": [
    "params={\n",
    "    \"_account\": prajwol.get_address(),\n",
    "    \"_amount\": 20,\n",
    "}\n",
    "\n",
    "call_transaction = CallTransactionBuilder()\\\n",
    "    .from_(operator.get_address())\\\n",
    "    .to(SCORE_ADDRESS)\\\n",
    "    .nid(3)\\\n",
    "    .nonce(100)\\\n",
    "    .method(\"burn\")\\\n",
    "    .params(params)\\\n",
    "    .build()\n",
    "\n",
    "estimate_step = icon_service.estimate_step(call_transaction)\n",
    "step_limit = estimate_step + 100000\n",
    "# Returns the signed transaction object having a signature\n",
    "signed_transaction = SignedTransaction(call_transaction, caller_wallet,step_limit)\n",
    "\n",
    "# Sends the transaction\n",
    "tx_hash = icon_service.send_transaction(signed_transaction)\n",
    "tx_hash\n"
   ]
  }
 ],
 "metadata": {
  "kernelspec": {
   "display_name": "Python 3",
   "language": "python",
   "name": "python3"
  },
  "language_info": {
   "codemirror_mode": {
    "name": "ipython",
    "version": 3
   },
   "file_extension": ".py",
   "mimetype": "text/x-python",
   "name": "python",
   "nbconvert_exporter": "python",
   "pygments_lexer": "ipython3",
   "version": "3.8.2"
  }
 },
 "nbformat": 4,
 "nbformat_minor": 2
}

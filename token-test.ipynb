{
 "cells": [
  {
   "cell_type": "code",
   "execution_count": 1,
   "metadata": {},
   "outputs": [],
   "source": [
    "#Import necessary packages\n",
    "from iconsdk.icon_service import IconService\n",
    "from iconsdk.providers.http_provider import HTTPProvider\n",
    "from iconsdk.builder.transaction_builder import CallTransactionBuilder, TransactionBuilder,DeployTransactionBuilder,MessageTransactionBuilder\n",
    "from iconsdk.builder.call_builder import CallBuilder\n",
    "from iconsdk.signed_transaction import SignedTransaction\n",
    "from iconsdk.wallet.wallet import KeyWallet\n",
    "from iconsdk.utils.convert_type import convert_hex_str_to_int\n",
    "import requests\n",
    "import json\n",
    "import pickle\n",
    "import csv\n",
    "import os\n",
    "from repeater import retry\n",
    "from iconsdk.libs.in_memory_zip import gen_deploy_data_content"
   ]
  },
  {
   "cell_type": "code",
   "execution_count": 2,
   "metadata": {},
   "outputs": [],
   "source": [
    "GOVERNANCE_ADDRESS = \"cx0000000000000000000000000000000000000000\"\n",
    "SCORE_ADDRESS = \"cxf145f42657dbf2f98f02427b55e27c67d2951220\"\n",
    "NEWTON_ADDRESS = \"hx9393939393939393939393939393939393939399\"\n",
    "DEPLOY_PARAMS = {}"
   ]
  },
  {
   "cell_type": "code",
   "execution_count": 3,
   "metadata": {
    "tags": []
   },
   "outputs": [],
   "source": [
    "#Start ICON service and wallet\n",
    "icon_service = IconService(HTTPProvider(\"https://bicon.net.solidwallet.io\", 3))\n",
    "#icon_service = IconService(HTTPProvider(\"http://localhost:9000\", 3))\n",
    "operator = KeyWallet.load('config/yeouido/keystores/operator', 'bgsa199@#')\n",
    "prajwol = KeyWallet.load('config/yeouido/keystores/testPrajwol', 'bgsa199@#')\n",
    "\n"
   ]
  },
  {
   "cell_type": "code",
   "execution_count": 6,
   "metadata": {
    "tags": []
   },
   "outputs": [],
   "source": [
    "def test_method(method_name:str, params:dict):\n",
    "    call_transaction = CallTransactionBuilder()\\\n",
    "    .from_(operator.get_address())\\\n",
    "    .to(SCORE_ADDRESS)\\\n",
    "    .nid(3)\\\n",
    "    .nonce(100)\\\n",
    "    .method(method_name)\\\n",
    "    .params(params)\\\n",
    "    .build()\n",
    "\n",
    "    estimate_step = icon_service.estimate_step(call_transaction)\n",
    "    step_limit = estimate_step + 100000\n",
    "    signed_transaction = SignedTransaction(call_transaction, operator,step_limit)\n",
    "\n",
    "    tx_hash = icon_service.send_transaction(signed_transaction)\n",
    "    return tx_hash\n",
    "\n",
    "def transfer_transaction(to, value):\n",
    "    test_method('transfer', {'_to':to, '_value':value})\n",
    "\n",
    "def update(name, symbol, supply, decimals=18):\n",
    "    UPDATE_PARAMS =  {\n",
    "            \"_tokenName\": name,\n",
    "            \"_symbolName\": symbol,\n",
    "\t\t\t\"_initialSupply\": supply,\n",
    "            \"_decimals\": decimals\n",
    "\t\t}\n",
    "        \n",
    "    deploy_transaction = DeployTransactionBuilder()\\\n",
    "    .from_(operator.get_address())\\\n",
    "    .to(SCORE_ADDRESS)\\\n",
    "    .nid(3)\\\n",
    "    .nonce(100)\\\n",
    "    .content_type(\"application/zip\")\\\n",
    "    .content(gen_deploy_data_content('ODIContracts'))\\\n",
    "    .params(UPDATE_PARAMS)\\\n",
    "    .build()\n",
    "\n",
    "    estimate_step = icon_service.estimate_step(deploy_transaction)\n",
    "    step_limit = estimate_step + 100000\n",
    "    signed_transaction = SignedTransaction(deploy_transaction, operator, step_limit)    \n",
    "    tx_hash = icon_service.send_transaction(signed_transaction)\n",
    "\n",
    "def external_methods():\n",
    "    external_methods = [\"name\", \"symbol\", \"decimals\", \"totalSupply\"]\n",
    "    for method in external_methods:\n",
    "        call_method(method)\n",
    "    \n",
    "def call_method(method_name, params={}):\n",
    "    call = CallBuilder().from_(operator.get_address())\\\n",
    "                    .to(SCORE_ADDRESS)\\\n",
    "                    .method(method_name)\\\n",
    "                    .params(params)\\\n",
    "                    .build()\n",
    "    print(icon_service.call(call))\n",
    "\n"
   ]
  },
  {
   "cell_type": "code",
   "execution_count": 9,
   "metadata": {
    "tags": []
   },
   "outputs": [
    {
     "output_type": "stream",
     "name": "stdout",
     "text": "TestToken\nTS\n0x12\n0x3635c9adc5dea00000\n"
    }
   ],
   "source": [
    "external_methods()"
   ]
  },
  {
   "cell_type": "code",
   "execution_count": 8,
   "metadata": {
    "tags": []
   },
   "outputs": [],
   "source": [
    "update('TestToken','TS',1000, 18)\n",
    "\n"
   ]
  }
 ],
 "metadata": {
  "kernelspec": {
   "display_name": "Python 3",
   "language": "python",
   "name": "python3"
  },
  "language_info": {
   "codemirror_mode": {
    "name": "ipython",
    "version": 3
   },
   "file_extension": ".py",
   "mimetype": "text/x-python",
   "name": "python",
   "nbconvert_exporter": "python",
   "pygments_lexer": "ipython3",
   "version": "3.8.2-final"
  }
 },
 "nbformat": 4,
 "nbformat_minor": 2
}